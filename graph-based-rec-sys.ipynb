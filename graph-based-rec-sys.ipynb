{
 "cells": [
  {
   "cell_type": "markdown",
   "metadata": {},
   "source": [
    "## Graph Based Recommendations With Neo4j, NLP, and Python Data Science Tools"
   ]
  },
  {
   "cell_type": "code",
   "execution_count": 1,
   "metadata": {},
   "outputs": [
    {
     "name": "stdout",
     "output_type": "stream",
     "text": [
      "Requirement already satisfied: py2neo in ./anaconda3/lib/python3.7/site-packages (4.3.0)\n",
      "Requirement already satisfied: neotime~=1.7.4 in ./anaconda3/lib/python3.7/site-packages (from py2neo) (1.7.4)\n",
      "Requirement already satisfied: click==7.0 in ./anaconda3/lib/python3.7/site-packages (from py2neo) (7.0)\n",
      "Requirement already satisfied: urllib3<1.25,>=1.23 in ./anaconda3/lib/python3.7/site-packages (from py2neo) (1.24.1)\n",
      "Requirement already satisfied: pygments~=2.3.1 in ./anaconda3/lib/python3.7/site-packages (from py2neo) (2.3.1)\n",
      "Requirement already satisfied: neobolt~=1.7.12 in ./anaconda3/lib/python3.7/site-packages (from py2neo) (1.7.13)\n",
      "Requirement already satisfied: prompt-toolkit~=2.0.7 in ./anaconda3/lib/python3.7/site-packages (from py2neo) (2.0.9)\n",
      "Requirement already satisfied: pytz in ./anaconda3/lib/python3.7/site-packages (from py2neo) (2018.9)\n",
      "Requirement already satisfied: colorama in ./anaconda3/lib/python3.7/site-packages (from py2neo) (0.4.1)\n",
      "Requirement already satisfied: certifi in ./anaconda3/lib/python3.7/site-packages (from py2neo) (2019.3.9)\n",
      "Requirement already satisfied: six in ./anaconda3/lib/python3.7/site-packages (from neotime~=1.7.4->py2neo) (1.12.0)\n",
      "Requirement already satisfied: wcwidth in ./anaconda3/lib/python3.7/site-packages (from prompt-toolkit~=2.0.7->py2neo) (0.1.7)\n",
      "Collecting python-igraph\n",
      "\u001b[?25l  Downloading https://files.pythonhosted.org/packages/0f/a0/4e7134f803737aa6eebb4e5250565ace0e2599659e22be7f7eba520ff017/python-igraph-0.7.1.post6.tar.gz (377kB)\n",
      "\u001b[K    100% |████████████████████████████████| 378kB 4.1MB/s ta 0:00:01\n",
      "\u001b[?25hBuilding wheels for collected packages: python-igraph\n",
      "  Building wheel for python-igraph (setup.py) ... \u001b[?25ldone\n",
      "\u001b[?25h  Stored in directory: /home/dhanendra/.cache/pip/wheels/41/d6/02/34eebae97e25f5b87d60f4c0687e00523e3f244fa41bc3f4a7\n",
      "Successfully built python-igraph\n",
      "Installing collected packages: python-igraph\n",
      "Successfully installed python-igraph-0.7.1.post6\n",
      "Collecting textblob\n",
      "\u001b[?25l  Downloading https://files.pythonhosted.org/packages/60/f0/1d9bfcc8ee6b83472ec571406bd0dd51c0e6330ff1a51b2d29861d389e85/textblob-0.15.3-py2.py3-none-any.whl (636kB)\n",
      "\u001b[K    100% |████████████████████████████████| 645kB 33kB/s ta 0:00:01\n",
      "\u001b[?25hRequirement already satisfied: nltk>=3.1 in ./.local/lib/python3.7/site-packages (from textblob) (3.4.3)\n",
      "Requirement already satisfied: six in ./anaconda3/lib/python3.7/site-packages (from nltk>=3.1->textblob) (1.12.0)\n",
      "Installing collected packages: textblob\n",
      "Successfully installed textblob-0.15.3\n"
     ]
    }
   ],
   "source": [
    "!pip install py2neo\n",
    "!pip install python-igraph\n",
    "!pip install textblob"
   ]
  },
  {
   "cell_type": "markdown",
   "metadata": {},
   "source": [
    "## Import data\n",
    "\n",
    "We'll use [py2neo](http://py2neo.org/v3/), one of the Python drivers for Neo4j.\n",
    "\n",
    "To connect to our Neo4j server we'll need to make note of the host, post, username and password.\n",
    "\n",
    "If we're using [Neo4j Sandbox](http://neo4j.com/sandbox) we can grab these details form the \"Details\" tab of our running sandbox:\n",
    "\n",
    "![](img/sandboxcredentials.png)"
   ]
  },
  {
   "cell_type": "code",
   "execution_count": 1,
   "metadata": {},
   "outputs": [],
   "source": [
    "# Import py2neo and connect to Neo4j\n",
    "from py2neo import Graph\n",
    "\n",
    "# just an example, replace with credentials for your own Neo4j instance\n",
    "graph = Graph(bolt=False, host=\"54.164.111.140\", http_port=32894, user='neo4j', password='subprogram-sidewalk-flame')"
   ]
  },
  {
   "cell_type": "code",
   "execution_count": null,
   "metadata": {},
   "outputs": [],
   "source": [
    "# Hello world, sanity check\n",
    "graph.run(\"MATCH (a) RETURN COUNT(a) AS numberOfNodes\").evaluate()"
   ]
  },
  {
   "cell_type": "markdown",
   "metadata": {},
   "source": [
    "### Import Groups and Topics\n",
    "![](http://guides.neo4j.com/bostonmeetup/img/group_has_topic.png)"
   ]
  },
  {
   "cell_type": "code",
   "execution_count": null,
   "metadata": {},
   "outputs": [],
   "source": [
    "graph.run(\"CREATE CONSTRAINT ON (g:Group) ASSERT g.id IS UNIQUE;\")"
   ]
  },
  {
   "cell_type": "code",
   "execution_count": null,
   "metadata": {
    "collapsed": true
   },
   "outputs": [],
   "source": [
    "graph.run(\"CREATE CONSTRAINT ON (t:Topic) ASSERT t.id IS UNIQUE;\")"
   ]
  },
  {
   "cell_type": "code",
   "execution_count": null,
   "metadata": {
    "collapsed": true
   },
   "outputs": [],
   "source": [
    "graph.run(\"CREATE INDEX ON :Group(name)\")"
   ]
  },
  {
   "cell_type": "code",
   "execution_count": null,
   "metadata": {
    "collapsed": true
   },
   "outputs": [],
   "source": [
    "graph.run(\"CREATE INDEX ON :Topic(name)\")"
   ]
  },
  {
   "cell_type": "code",
   "execution_count": null,
   "metadata": {},
   "outputs": [],
   "source": [
    "graph.run('''\n",
    "LOAD CSV WITH HEADERS\n",
    "FROM \"https://raw.githubusercontent.com/johnymontana/harvard-bar/master/data/groups.csv\"\n",
    "AS row\n",
    "MERGE (group:Group { id:row.id })\n",
    "ON CREATE SET\n",
    "  group.name = row.name,\n",
    "  group.urlname = row.urlname,\n",
    "  group.rating = toInt(row.rating),\n",
    "  group.created = toInt(row.created)\n",
    "''')"
   ]
  },
  {
   "cell_type": "code",
   "execution_count": null,
   "metadata": {
    "collapsed": true
   },
   "outputs": [],
   "source": [
    "graph.run('''\n",
    "LOAD CSV WITH HEADERS FROM \"https://raw.githubusercontent.com/johnymontana/harvard-bar/master/data/groups_topics.csv\"  AS row\n",
    "MERGE (topic:Topic {id: row.id})\n",
    "ON CREATE SET topic.name = row.name, topic.urlkey = row.urlkey\n",
    "''')"
   ]
  },
  {
   "cell_type": "code",
   "execution_count": null,
   "metadata": {
    "collapsed": true
   },
   "outputs": [],
   "source": [
    "graph.run('''\n",
    "LOAD CSV WITH HEADERS FROM \"https://raw.githubusercontent.com/johnymontana/harvard-bar/master/data/groups_topics.csv\"  AS row\n",
    "MATCH (topic:Topic {id: row.id})\n",
    "MATCH (group:Group {id: row.groupId})\n",
    "MERGE (group)-[:HAS_TOPIC]->(topic)\n",
    "''')"
   ]
  },
  {
   "cell_type": "markdown",
   "metadata": {},
   "source": [
    "### Find similar groups to Graph Database - Austin\n",
    "By looking at topics, can we find groups that have similar topics to Graph Database Austin?"
   ]
  },
  {
   "cell_type": "code",
   "execution_count": null,
   "metadata": {},
   "outputs": [],
   "source": [
    "result = graph.run('''\n",
    "MATCH (group:Group)-[:HAS_TOPIC]->(topic)<-[:HAS_TOPIC]-(otherGroup)\n",
    "WHERE group.name CONTAINS \"Graph Database\"\n",
    "RETURN otherGroup.name, COUNT(topic) AS topicsInCommon,\n",
    "       COLLECT(topic.name) AS topics\n",
    "ORDER BY topicsInCommon DESC, otherGroup.name\n",
    "LIMIT 10\n",
    "''')\n",
    "\n",
    "for row in result:\n",
    "    print(row)"
   ]
  },
  {
   "cell_type": "markdown",
   "metadata": {},
   "source": [
    "## Topic Similarity\n",
    "\n",
    "Using community detection to find similar topics\n",
    "\n",
    "![](https://camo.githubusercontent.com/0054c52996fdd9bb82456406cb867bdb3985d14c/687474703a2f2f7777772e6c796f6e776a2e636f6d2f7075626c69632f696d672f636f6d6d756e6974792d312e706e67)"
   ]
  },
  {
   "cell_type": "code",
   "execution_count": null,
   "metadata": {},
   "outputs": [],
   "source": [
    "from igraph import Graph as IGraph"
   ]
  },
  {
   "cell_type": "markdown",
   "metadata": {},
   "source": [
    "Find all pairs of topics and find the number of common groups that share each pair of topics. We'll use this as weight to build a \"virtual graph\" of the form`(Topic)-[:OCCURS_WITH {weight}]-(Topic)`"
   ]
  },
  {
   "cell_type": "code",
   "execution_count": null,
   "metadata": {},
   "outputs": [],
   "source": [
    "\n",
    "query = \"\"\"\n",
    "MATCH (topic:Topic)<-[:HAS_TOPIC]-()-[:HAS_TOPIC]->(other:Topic)\n",
    "WHERE ID(topic) < ID(other)\n",
    "RETURN topic.name, other.name, COUNT(*) AS weight\n",
    "ORDER BY weight DESC\n",
    "LIMIT 10\n",
    "\"\"\"\n",
    "\n",
    "result = graph.run(query)\n",
    "for row in result:\n",
    "    print(row)\n"
   ]
  },
  {
   "cell_type": "markdown",
   "metadata": {},
   "source": [
    "Now let's run this query again and build an igraph instance from the results:"
   ]
  },
  {
   "cell_type": "code",
   "execution_count": null,
   "metadata": {},
   "outputs": [],
   "source": [
    "query = \"\"\"\n",
    "MATCH (topic:Topic)<-[:HAS_TOPIC]-()-[:HAS_TOPIC]->(other:Topic)\n",
    "WHERE ID(topic) < ID(other)\n",
    "RETURN topic.name, other.name, COUNT(*) AS weight\n",
    "\"\"\"\n",
    "\n",
    "ig = IGraph.TupleList(graph.run(query), weights=True)\n",
    "ig"
   ]
  },
  {
   "cell_type": "markdown",
   "metadata": {},
   "source": [
    "Now we'll run the Walktrap community detection algorithm to find clusters / communities:"
   ]
  },
  {
   "cell_type": "code",
   "execution_count": null,
   "metadata": {},
   "outputs": [],
   "source": [
    "clusters = IGraph.community_walktrap(ig, weights=\"weight\")\n",
    "clusters = clusters.as_clustering()\n",
    "len(clusters)"
   ]
  },
  {
   "cell_type": "markdown",
   "metadata": {},
   "source": [
    "Let's inspect the results:"
   ]
  },
  {
   "cell_type": "code",
   "execution_count": null,
   "metadata": {},
   "outputs": [],
   "source": [
    "\n",
    "nodes = [node[\"name\"] for node in ig.vs]\n",
    "nodes = [{\"id\": x, \"label\": x} for x in nodes]\n",
    "nodes[:5]\n",
    "\n",
    "for node in nodes:\n",
    "    idx = ig.vs.find(name=node[\"id\"]).index\n",
    "    node[\"group\"] = clusters.membership[idx]\n",
    "    \n",
    "nodes[:5]"
   ]
  },
  {
   "cell_type": "markdown",
   "metadata": {},
   "source": [
    "Now we'll write the results back to Neo4j, extended our graph model:\n",
    "![](http://guides.neo4j.com/bostonmeetup/img/cluster_datamodel.png)"
   ]
  },
  {
   "cell_type": "code",
   "execution_count": null,
   "metadata": {},
   "outputs": [],
   "source": [
    "query = \"\"\"\n",
    "UNWIND {params} AS p \n",
    "MATCH (t:Topic {name: p.id}) \n",
    "MERGE (cluster:Cluster {name: p.group})\n",
    "MERGE (t)-[:IN_CLUSTER]->(cluster)\n",
    "\"\"\"\n",
    "\n",
    "graph.run(query, params = nodes)"
   ]
  },
  {
   "cell_type": "markdown",
   "metadata": {},
   "source": [
    "We can see which clusters the Python related topics end up being in:\n",
    "![](http://guides.neo4j.com/bostonmeetup/img/python_cluster.png)"
   ]
  },
  {
   "cell_type": "code",
   "execution_count": null,
   "metadata": {},
   "outputs": [],
   "source": [
    "graph.run('''\n",
    "MATCH (cluster:Cluster)<-[inCluster:IN_CLUSTER]-(topic)\n",
    "WHERE topic.name CONTAINS \"Python\"\n",
    "RETURN *\n",
    "''')"
   ]
  },
  {
   "cell_type": "markdown",
   "metadata": {},
   "source": [
    "## My Similar Groups\n",
    "\n",
    "We need to add Member data in order to build more relevant\n",
    "recommendations:\n",
    "![](http://guides.neo4j.com/bostonmeetup/img/group_has_topic_member_of.png)"
   ]
  },
  {
   "cell_type": "code",
   "execution_count": null,
   "metadata": {},
   "outputs": [],
   "source": [
    "graph.run('''\n",
    "CREATE CONSTRAINT ON (m:Member)\n",
    "ASSERT m.id IS UNIQUE''')"
   ]
  },
  {
   "cell_type": "code",
   "execution_count": null,
   "metadata": {},
   "outputs": [],
   "source": [
    "graph.run('''\n",
    "USING PERIODIC COMMIT 10000\n",
    "LOAD CSV WITH HEADERS\n",
    "FROM \"https://raw.githubusercontent.com/johnymontana/harvard-bar/master/data/members.csv\" AS row\n",
    "WITH DISTINCT row.id AS id, row.name AS name\n",
    "MERGE (member:Member {id: id})\n",
    "ON CREATE SET member.name = name\n",
    "''')"
   ]
  },
  {
   "cell_type": "code",
   "execution_count": null,
   "metadata": {},
   "outputs": [],
   "source": [
    "graph.run('''\n",
    "USING PERIODIC COMMIT 10000\n",
    "LOAD CSV WITH HEADERS\n",
    "FROM \"https://raw.githubusercontent.com/johnymontana/harvard-bar/master/data/members.csv\" AS row\n",
    "WITH row WHERE NOT row.joined is null\n",
    "MATCH (member:Member {id: row.id})\n",
    "MATCH (group:Group {id: row.groupId})\n",
    "MERGE (member)-[membership:MEMBER_OF]->(group)\n",
    "ON CREATE SET membership.joined=toInt(row.joined);\n",
    "''')"
   ]
  },
  {
   "cell_type": "code",
   "execution_count": null,
   "metadata": {},
   "outputs": [],
   "source": [
    "graph.run('''\n",
    "MATCH (member:Member)-[membership:MEMBER_OF]->(group)\n",
    "RETURN member, group, membership\n",
    "LIMIT 10\n",
    "''')"
   ]
  },
  {
   "cell_type": "markdown",
   "metadata": {},
   "source": [
    "![](http://guides.neo4j.com/bostonmeetup/img/group_members.png)"
   ]
  },
  {
   "cell_type": "code",
   "execution_count": null,
   "metadata": {},
   "outputs": [],
   "source": [
    "graph.run(\"CREATE INDEX ON :Member(name)\")"
   ]
  },
  {
   "cell_type": "markdown",
   "metadata": {},
   "source": [
    "### Find my similar groups"
   ]
  },
  {
   "cell_type": "code",
   "execution_count": null,
   "metadata": {},
   "outputs": [],
   "source": [
    "results = graph.run('''MATCH (member:Member {name: \"Will Lyon\"})-[:MEMBER_OF]->()-[:HAS_TOPIC]->()<-[:HAS_TOPIC]-(otherGroup:Group)\n",
    "WHERE NOT (member)-[:MEMBER_OF]->(otherGroup)\n",
    "RETURN otherGroup.name,\n",
    "       COUNT(*) AS topicsInCommon\n",
    "ORDER BY topicsInCommon DESC\n",
    "LIMIT 10''')\n",
    "\n",
    "for row in results:\n",
    "    print(row)"
   ]
  },
  {
   "cell_type": "markdown",
   "metadata": {},
   "source": [
    "## Events\n",
    "![](http://guides.neo4j.com/bostonmeetup/img/event_datamodel.png)"
   ]
  },
  {
   "cell_type": "code",
   "execution_count": null,
   "metadata": {},
   "outputs": [],
   "source": [
    "graph.run(\"CREATE CONSTRAINT ON (e:Event) ASSERT e.id IS UNIQUE\")"
   ]
  },
  {
   "cell_type": "code",
   "execution_count": null,
   "metadata": {},
   "outputs": [],
   "source": [
    "graph.run(\"CREATE INDEX ON :Event(time)\")"
   ]
  },
  {
   "cell_type": "code",
   "execution_count": null,
   "metadata": {},
   "outputs": [],
   "source": [
    "graph.run('''USING PERIODIC COMMIT 10000\n",
    "LOAD CSV WITH HEADERS FROM \"https://raw.githubusercontent.com/johnymontana/harvard-bar/master/data/events.csv\" AS row\n",
    "MERGE (event:Event {id: row.id})\n",
    "ON CREATE SET event.name = row.name,\n",
    "              event.description = row.description,\n",
    "              event.time = toInt(row.time),\n",
    "              event.utcOffset = toInt(row.utc_offset)\n",
    "''')\n",
    "              "
   ]
  },
  {
   "cell_type": "code",
   "execution_count": null,
   "metadata": {},
   "outputs": [],
   "source": [
    "graph.run('''\n",
    "USING PERIODIC COMMIT 10000\n",
    "LOAD CSV WITH HEADERS FROM \"https://raw.githubusercontent.com/johnymontana/harvard-bar/master/data/events.csv\" AS row\n",
    "\n",
    "WITH distinct row.group_id as groupId, row.id as eventId\n",
    "MATCH (group:Group {id: groupId})\n",
    "MATCH (event:Event {id: eventId})\n",
    "MERGE (group)-[:HOSTED_EVENT]->(event)\n",
    "''')"
   ]
  },
  {
   "cell_type": "code",
   "execution_count": null,
   "metadata": {},
   "outputs": [],
   "source": [
    "graph.run('''\n",
    "MATCH (group:Group)-[hosted:HOSTED_EVENT]->(event)\n",
    "WHERE group.name CONTAINS \"Graph Database\" AND event.time < timestamp()\n",
    "RETURN event, group, hosted\n",
    "ORDER BY event.time DESC\n",
    "LIMIT 10\n",
    "''')"
   ]
  },
  {
   "cell_type": "markdown",
   "metadata": {},
   "source": [
    "### Adding Member RSVPs\n",
    "TODO: add datamodel image"
   ]
  },
  {
   "cell_type": "code",
   "execution_count": null,
   "metadata": {},
   "outputs": [],
   "source": [
    "graph.run('''\n",
    "USING PERIODIC COMMIT 10000\n",
    "LOAD CSV WITH HEADERS FROM \"file:///rsvps.csv\" AS row\n",
    "WITH row WHERE row.response = \"yes\"\n",
    "\n",
    "MATCH (member:Member {id: row.member_id})\n",
    "MATCH (event:Event {id: row.event_id})\n",
    "MERGE (member)-[rsvp:RSVPD {id: row.rsvp_id}]->(event)\n",
    "ON CREATE SET rsvp.created = toint(row.created),\n",
    "              rsvp.lastModified = toint(row.mtime),\n",
    "              rsvp.guests = toint(row.guests)\n",
    "''')"
   ]
  },
  {
   "cell_type": "code",
   "execution_count": null,
   "metadata": {
    "collapsed": true
   },
   "outputs": [],
   "source": []
  },
  {
   "cell_type": "markdown",
   "metadata": {},
   "source": [
    "![](![](http://guides.neo4j.com/bostonmeetup/img/graph_database_events.png)"
   ]
  },
  {
   "cell_type": "markdown",
   "metadata": {},
   "source": [
    "### Extracting keywords from event descriptions\n",
    "Note that we have topics for groups, but not for Events. We can use some NLP techniques to extract keywords from event descriptions and extend our datamodel to take those keywords into account in our recommendation queries.\n",
    "\n",
    "![](http://guides.neo4j.com/bostonmeetup/img/keyword_datamodel.png)"
   ]
  },
  {
   "cell_type": "code",
   "execution_count": null,
   "metadata": {
    "collapsed": true
   },
   "outputs": [],
   "source": []
  },
  {
   "cell_type": "code",
   "execution_count": null,
   "metadata": {},
   "outputs": [],
   "source": [
    "from textblob import TextBlob"
   ]
  },
  {
   "cell_type": "code",
   "execution_count": null,
   "metadata": {},
   "outputs": [],
   "source": [
    "# fetch one event\n",
    "desc = graph.run(\"MATCH (e:Event) WHERE e.description IS NOT null WITH e, rand() AS r ORDER BY r RETURN e.description LIMIT 1\").evaluate()\n",
    "desc"
   ]
  },
  {
   "cell_type": "code",
   "execution_count": null,
   "metadata": {
    "collapsed": true
   },
   "outputs": [],
   "source": [
    "# Helper function for stripping HTML\n",
    "from HTMLParser import HTMLParser\n",
    "class MLStripper(HTMLParser):\n",
    "    def __init__(self):\n",
    "        self.reset()\n",
    "        self.fed = []\n",
    "    def handle_data(self, d):\n",
    "        self.fed.append(d)\n",
    "    def get_data(self):\n",
    "        return ''.join(self.fed)\n",
    "    \n",
    "def strip_tags(html):\n",
    "    s = MLStripper()\n",
    "    s.feed(html)\n",
    "    return s.get_data()"
   ]
  },
  {
   "cell_type": "code",
   "execution_count": null,
   "metadata": {},
   "outputs": [],
   "source": [
    "# extract keywords with TextBlob\n",
    "blob = TextBlob(strip_tags(desc))\n",
    "\n",
    "# sentiment analysis\n",
    "print(\"Sentiment: \")\n",
    "print(blob.sentiment.polarity)\n",
    "print()\n",
    "\n",
    "# keyword extraction (using noun phrases)\n",
    "print(\"Keywords: \")\n",
    "print(blob.noun_phrases)"
   ]
  },
  {
   "cell_type": "code",
   "execution_count": null,
   "metadata": {},
   "outputs": [],
   "source": [
    "graph.run(\"CREATE CONSTRAINT ON (k:Keyword) ASSERT k.name IS UNIQUE\")"
   ]
  },
  {
   "cell_type": "code",
   "execution_count": null,
   "metadata": {},
   "outputs": [],
   "source": [
    "def addKeywords(query):\n",
    "    result = graph.run(query)\n",
    "    for row in result:\n",
    "        blob = TextBlob(strip_tags(row['desc']))\n",
    "        kws = blob.noun_phrases\n",
    "        if kws:\n",
    "            \n",
    "            p = {\n",
    "                'kws': kws,\n",
    "                'e_id': str(row['e_id'])\n",
    "            }\n",
    "            print(p)\n",
    "            \n",
    "            query = '''\n",
    "            WITH {kws} AS kws\n",
    "                MATCH (e:Event) WHERE e.id = {e_id}\n",
    "                UNWIND kws AS kw\n",
    "                MERGE (k:Keyword {name: kw})\n",
    "                MERGE (e)-[:HAS_TAG]->(k)\n",
    "            '''\n",
    "            \n",
    "            graph.run(query, parameters = p)\n"
   ]
  },
  {
   "cell_type": "code",
   "execution_count": null,
   "metadata": {},
   "outputs": [],
   "source": [
    "addKeywords('''\n",
    "        MATCH (e:Event)<-[:HOSTED_EVENT]-(g:Group {name: \"Graph Database - Austin\"})\n",
    "        RETURN e.id AS e_id, e.description AS desc\n",
    "        ''')"
   ]
  },
  {
   "cell_type": "code",
   "execution_count": null,
   "metadata": {},
   "outputs": [],
   "source": [
    "    addKeywords('''\n",
    "        MATCH (e:Event) WHERE e.description IS NOT NULL AND NOT exists((e)-[:HAS_TAG]->(:Keyword))\n",
    "        WITH e, rand() AS r ORDER BY r SKIP 0 LIMIT 100 \n",
    "        RETURN e.id AS e_id, e.description AS desc\n",
    "        ''')"
   ]
  },
  {
   "cell_type": "code",
   "execution_count": null,
   "metadata": {},
   "outputs": [],
   "source": []
  },
  {
   "cell_type": "code",
   "execution_count": null,
   "metadata": {},
   "outputs": [],
   "source": []
  },
  {
   "cell_type": "code",
   "execution_count": null,
   "metadata": {
    "collapsed": true
   },
   "outputs": [],
   "source": []
  }
 ],
 "metadata": {
  "kernelspec": {
   "display_name": "Python 3",
   "language": "python",
   "name": "python3"
  },
  "language_info": {
   "codemirror_mode": {
    "name": "ipython",
    "version": 3
   },
   "file_extension": ".py",
   "mimetype": "text/x-python",
   "name": "python",
   "nbconvert_exporter": "python",
   "pygments_lexer": "ipython3",
   "version": "3.7.3"
  }
 },
 "nbformat": 4,
 "nbformat_minor": 1
}
